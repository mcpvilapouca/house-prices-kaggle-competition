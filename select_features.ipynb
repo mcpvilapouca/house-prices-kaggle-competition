{
 "cells": [
  {
   "cell_type": "markdown",
   "metadata": {},
   "source": [
    "This notebook does feature selection and save the selected features to a pickle file\n",
    "\n",
    "- Removes features that have only one unique value\n",
    "- Remove features highly correlated\n",
    "- Remove features only slightly correlated with target\n",
    "\n",
    "The thresholds that worked best were:\n",
    "\n",
    "remove highly correlated:              < -0.85 and > 0.85\n",
    "remove slightly correlated to target:  > -0.05 and < 0.05"
   ]
  },
  {
   "cell_type": "code",
   "execution_count": null,
   "metadata": {},
   "outputs": [],
   "source": [
    "import pandas as pd\n",
    "import numpy as np\n",
    "from sklearn.feature_selection import SelectKBest\n",
    "from sklearn.feature_selection import chi2\n",
    "from sklearn.feature_selection import f_regression\n",
    "from sklearn.feature_selection import RFECV\n",
    "from statsmodels.stats.outliers_influence import variance_inflation_factor\n",
    "import pickle"
   ]
  },
  {
   "cell_type": "code",
   "execution_count": 54,
   "metadata": {},
   "outputs": [],
   "source": [
    "#load test and train data\n",
    "train_file='train_data_2906'\n",
    "test_file='test_data_2906'\n",
    "\n",
    "#write features to pickle file\n",
    "features_file='features_2906'\n",
    "\n",
    "df=pd.read_pickle(train_file+\".pkl\")\n",
    "df_test=pd.read_pickle(test_file+\".pkl\")\n",
    "\n",
    "y=df.SalePrice\n",
    "X=df.drop('SalePrice', axis=1)\n",
    "\n",
    "X_test=df_test"
   ]
  },
  {
   "cell_type": "code",
   "execution_count": 62,
   "metadata": {},
   "outputs": [],
   "source": [
    "#check if features have more than 1 unique value\n",
    "uv=[]\n",
    "for col in X.columns:\n",
    "    uv.append(X[col].unique().shape[0])\n",
    "uvdf=pd.DataFrame(uv, index=X.columns)\n",
    "\n",
    "features=list(uvdf[uvdf[0].gt(1)].index)"
   ]
  },
  {
   "cell_type": "code",
   "execution_count": 63,
   "metadata": {},
   "outputs": [],
   "source": [
    "#Filter X for the selected features\n",
    "X=X[features]"
   ]
  },
  {
   "cell_type": "code",
   "execution_count": 64,
   "metadata": {},
   "outputs": [],
   "source": [
    "import seaborn as sns\n",
    "\n",
    "data=pd.concat([X,y],axis=1)\n",
    "\n",
    "#get correlations of each features in dataset\n",
    "corrmat = data.corr()\n",
    "top_corr_features = corrmat.index\n",
    "plt.figure(figsize=(30,40))\n",
    "#plot heat map\n",
    "g=sns.heatmap(data[top_corr_features].corr(),annot=True,cmap=\"RdYlGn\")"
   ]
  },
  {
   "cell_type": "code",
   "execution_count": 65,
   "metadata": {},
   "outputs": [],
   "source": [
    "#exclude highly correlated features and features low corrrelated with target\n",
    "\n",
    "a=pd.DataFrame()\n",
    "\n",
    "threshold_high=0.8\n",
    "threshold_low=0.05\n",
    "\n",
    "for col in corrmat.columns:\n",
    "    a=pd.concat([a,pd.DataFrame(list(corrmat[col][corrmat[col].gt(threshold_high) | corrmat[col].lt(-threshold_high)].index))], ignore_index=True, axis=1)\n",
    "    if col=='SalePrice':\n",
    "        #remote features not correlated with SalePrice\n",
    "        b=pd.DataFrame(list(corrmat[col][corrmat[col].gt(-threshold_low) & corrmat[col].lt(threshold_low)].index))\n",
    "\n",
    "a.rename(columns=dict(zip(list(a.columns), list(corrmat.columns))), inplace=True)\n",
    "\n",
    "features_to_remove=[]\n",
    "for col in a.columns:\n",
    "    if a[col].dropna().shape[0]>1:\n",
    "        features_to_remove.append(list(a[col].dropna().iloc[1:]))\n",
    "\n",
    "features_to_remove.append(list(b[0]))\n",
    "\n",
    "#flatten list\n",
    "features_to_remove = [x for xs in features_to_remove for x in xs]\n",
    "\n",
    "#remove duplicates and SalePrice\n",
    "features_to_remove=list(set(features_to_remove))\n",
    "if ('SalePrice' in features_to_remove):\n",
    "    features_to_remove.remove('SalePrice')"
   ]
  },
  {
   "cell_type": "code",
   "execution_count": 66,
   "metadata": {},
   "outputs": [
    {
     "data": {
      "text/plain": [
       "58"
      ]
     },
     "execution_count": 66,
     "metadata": {},
     "output_type": "execute_result"
    }
   ],
   "source": [
    "features=[x for x in features if x not in features_to_remove]\n",
    "print('New number of features: 'len(features))\n",
    "\n",
    "with open(features_file, \"wb\") as fp:   #Pickling\n",
    "    pickle.dump(features, fp)"
   ]
  }
 ],
 "metadata": {
  "kernelspec": {
   "display_name": "venv",
   "language": "python",
   "name": "venv"
  },
  "language_info": {
   "codemirror_mode": {
    "name": "ipython",
    "version": 3
   },
   "file_extension": ".py",
   "mimetype": "text/x-python",
   "name": "python",
   "nbconvert_exporter": "python",
   "pygments_lexer": "ipython3",
   "version": "3.9.7"
  },
  "orig_nbformat": 4
 },
 "nbformat": 4,
 "nbformat_minor": 2
}
