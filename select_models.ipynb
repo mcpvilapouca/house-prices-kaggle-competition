{
 "cells": [
  {
   "cell_type": "markdown",
   "id": "053ed952",
   "metadata": {},
   "source": [
    "This notebook tests 6 models to analyse the most promising\n",
    "\n",
    "    - LinearRegression\n",
    "    - RandomForestRegressor\n",
    "    - KNeighborsRegressor\n",
    "    - GradientBoostingRegressor\n",
    "    - XGBRegressor\n",
    "    - KernelRidge\n",
    "\n",
    " * The models are tested using RepeatedKFold with an integrated pipeline\n",
    " * The pipeline is introduced to integrate the data normalization into the\n",
    "RepeatedKFold process. This cannot be done before the RepeatedKFold since it would \n",
    "cause data leakage.\n",
    "\n",
    "Saves the results to a log file: select_models.log"
   ]
  },
  {
   "cell_type": "code",
   "execution_count": null,
   "id": "154ed727",
   "metadata": {},
   "outputs": [],
   "source": [
    "linmodel=create_models.linmodel(n_jobs=4)\n",
    "random_forest=create_models.random_forest(n_jobs=4)\n",
    "knn=create_models.knn(n_jobs=4)\n",
    "ridge=create_models.ridge(alpha=0.68083180840980384, coef0=3.9929790032748049, degree=2,kernel='polynomial')\n",
    "gradboost=create_models.gradboost()\n",
    "xgboost=create_models.xgboost(n_jobs=4)"
   ]
  },
  {
   "cell_type": "code",
   "execution_count": null,
   "id": "2f0ee78c",
   "metadata": {},
   "outputs": [],
   "source": [
    "import pandas as pd\n",
    "from sklearn.model_selection import train_test_split\n",
    "import numpy as np\n",
    "from sklearn.model_selection import cross_val_score\n",
    "from sklearn.metrics import mean_squared_error\n",
    "from sklearn.metrics import r2_score\n",
    "from sklearn.preprocessing import MinMaxScaler\n",
    "from sklearn.preprocessing import RobustScaler\n",
    "from sklearn.model_selection import GridSearchCV\n",
    "from sklearn.model_selection import RepeatedKFold\n",
    "from sklearn.ensemble import GradientBoostingRegressor\n",
    "from sklearn.metrics import mean_squared_error\n",
    "import create_models\n",
    "import pickle\n",
    "from sklearn.pipeline import Pipeline\n",
    "import logging\n",
    "\n",
    "pd.set_option('display.float_format', lambda x: '%.9f' % x)\n",
    "\n",
    "#scaler: 'minmax', 'robust'\n",
    "scaler='minmax'\n",
    "\n",
    "#use selected features ('yes) vs all features 'no'\n",
    "sfeat='yes'\n",
    "\n",
    "if sfeat=='no':\n",
    "   read_features='None'\n",
    "else:\n",
    "   read_features='features_2906'\n",
    "\n",
    "#test and train files\n",
    "train_file='train_data_2906_ro'\n",
    "test_file='test_data_2906_ro'\n",
    "\n",
    "logging.basicConfig(level=logging.DEBUG, filename=\"select_models.log\", filemode=\"a+\",\n",
    "                        format=\"%(asctime)-15s %(levelname)-8s %(message)s\")\n",
    "\n",
    "logging.info(\"\\n---------------- NEW RUN ----------------\\n\"+\n",
    "'* selected features: '+sfeat+'\\n'+\n",
    "'*features file: '+read_features+'\\n'+\n",
    "'*train file: '+train_file+'\\n'+\n",
    "'*outliers: removed\\n'+\n",
    "'*scaler: '+scaler+'\\n'+\n",
    "'*normalized data: yes'+'\\n\\n')"
   ]
  },
  {
   "cell_type": "code",
   "execution_count": 47,
   "id": "40b80514",
   "metadata": {},
   "outputs": [],
   "source": [
    "#define models\n",
    "\n",
    "linmodel=create_models.linmodel(n_jobs=4)\n",
    "random_forest=create_models.random_forest(n_jobs=4)\n",
    "knn=create_models.knn(n_jobs=4)\n",
    "ridge=create_models.ridge(alpha=0.68083180840980384, coef0=3.9929790032748049, degree=2,kernel='polynomial')\n",
    "gradboost=create_models.gradboost()\n",
    "xgboost=create_models.xgboost(n_jobs=4)\n",
    "\n",
    "#create dictionary with models:\n",
    "m=[linmodel,random_forest,knn,ridge,gradboost,xgboost]\n",
    "labels=['linmodel','random_forest','knn','lasso','gradboost','xgboost']\n",
    "model_dict=dict(zip(labels, m))"
   ]
  },
  {
   "cell_type": "code",
   "execution_count": 48,
   "id": "facb6277",
   "metadata": {},
   "outputs": [],
   "source": [
    "\n",
    "df=pd.read_pickle(train_file+\".pkl\")\n",
    "df_test=pd.read_pickle(test_file+\".pkl\")\n",
    "X_test=df_test\n",
    "\n",
    "y=np.array(df.SalePrice)\n",
    "\n",
    "if sfeat=='yes':\n",
    "    with open(read_features, \"rb\") as fp:   # Unpickling\n",
    "        features = pickle.load(fp)\n",
    "    df=df[features]\n",
    "    X_test=X_test[features]\n",
    "else:\n",
    "    df=df.drop('SalePrice', axis=1)\n",
    "    X_test=df_test.drop('Id' ,axis=1)\n",
    "#--------------------------------------------\n",
    "X=np.array(df)\n",
    "X_test=np.array(X_test)\n",
    "\n",
    "#transform y\n",
    "y=np.log(y)\n"
   ]
  },
  {
   "cell_type": "code",
   "execution_count": 49,
   "id": "92b79c16",
   "metadata": {},
   "outputs": [
    {
     "name": "stdout",
     "output_type": "stream",
     "text": [
      "X_shape (1347, 58)\n",
      "Xtest_shape (1459, 58)\n"
     ]
    }
   ],
   "source": [
    "#check shapes\n",
    "logging.info('\\nX_shape: '+str(X.shape)+'\\n'+\n",
    "            'Xtest_shape: '+str(X_test.shape))\n",
    "\n",
    "print('X_shape', X.shape)\n",
    "print('Xtest_shape', X_test.shape)"
   ]
  },
  {
   "cell_type": "code",
   "execution_count": 50,
   "id": "5f31631f",
   "metadata": {},
   "outputs": [
    {
     "name": "stderr",
     "output_type": "stream",
     "text": [
      "/home/mariavp/venv/lib64/python3.9/site-packages/joblib/externals/loky/process_executor.py:702: UserWarning: A worker stopped while some jobs were given to the executor. This can be caused by a too short worker timeout or by a memory leak.\n",
      "  warnings.warn(\n"
     ]
    }
   ],
   "source": [
    "#do k-fold validation to select the best two models\n",
    "lscore=[]\n",
    "avg_r2=[]\n",
    "\n",
    "for i,model in enumerate(model_dict.values()):\n",
    "    # define the pipeline\n",
    "    steps = list()\n",
    "    if scaler=='minmax':\n",
    "        steps.append(('scaler', MinMaxScaler()))\n",
    "    elif scaler=='robust':\n",
    "        steps.append(('scaler', RobustScaler()))\n",
    "    steps.append(('model', model))\n",
    "    pipeline = Pipeline(steps=steps)\n",
    "    \n",
    "    # define the evaluation procedure\n",
    "    cv = RepeatedKFold(n_splits=5, n_repeats=10, random_state=1)\n",
    "    \n",
    "    # evaluate the model using cross-validation\n",
    "    scores = cross_val_score(pipeline, X, y, scoring='r2', cv=cv, n_jobs=4)\n",
    "    \n",
    "\n",
    "    avg=sum(scores)/len(scores)\n",
    "    lscore.append(scores)\n",
    "    avg_r2.append(avg)\n",
    "    "
   ]
  },
  {
   "cell_type": "code",
   "execution_count": 51,
   "id": "25c4a954",
   "metadata": {},
   "outputs": [
    {
     "data": {
      "text/html": [
       "<div>\n",
       "<style scoped>\n",
       "    .dataframe tbody tr th:only-of-type {\n",
       "        vertical-align: middle;\n",
       "    }\n",
       "\n",
       "    .dataframe tbody tr th {\n",
       "        vertical-align: top;\n",
       "    }\n",
       "\n",
       "    .dataframe thead th {\n",
       "        text-align: right;\n",
       "    }\n",
       "</style>\n",
       "<table border=\"1\" class=\"dataframe\">\n",
       "  <thead>\n",
       "    <tr style=\"text-align: right;\">\n",
       "      <th></th>\n",
       "      <th>avg_scores</th>\n",
       "    </tr>\n",
       "  </thead>\n",
       "  <tbody>\n",
       "    <tr>\n",
       "      <th>linmodel</th>\n",
       "      <td>0.905658688</td>\n",
       "    </tr>\n",
       "    <tr>\n",
       "      <th>gradboost</th>\n",
       "      <td>0.905515840</td>\n",
       "    </tr>\n",
       "    <tr>\n",
       "      <th>xgboost</th>\n",
       "      <td>0.902890928</td>\n",
       "    </tr>\n",
       "    <tr>\n",
       "      <th>lasso</th>\n",
       "      <td>0.902543203</td>\n",
       "    </tr>\n",
       "    <tr>\n",
       "      <th>random_forest</th>\n",
       "      <td>0.881327348</td>\n",
       "    </tr>\n",
       "    <tr>\n",
       "      <th>knn</th>\n",
       "      <td>0.777327340</td>\n",
       "    </tr>\n",
       "  </tbody>\n",
       "</table>\n",
       "</div>"
      ],
      "text/plain": [
       "               avg_scores\n",
       "linmodel      0.905658688\n",
       "gradboost     0.905515840\n",
       "xgboost       0.902890928\n",
       "lasso         0.902543203\n",
       "random_forest 0.881327348\n",
       "knn           0.777327340"
      ]
     },
     "execution_count": 51,
     "metadata": {},
     "output_type": "execute_result"
    }
   ],
   "source": [
    "avg_score=pd.DataFrame(avg_r2, index=model_dict.keys(),columns=['avg_scores'])\n",
    "avg_score.sort_values(by=['avg_scores'], ascending=False,inplace=True)\n",
    "\n",
    "logging.info('\\nOverall mean accuracies\\n____________\\n'+\n",
    "avg_score.index[0]+': '+str(avg_score.avg_scores[0])+'\\n'+\n",
    "avg_score.index[1]+': '+str(avg_score.avg_scores[1])+'\\n'+\n",
    "avg_score.index[2]+': '+str(avg_score.avg_scores[2])+'\\n'+\n",
    "avg_score.index[3]+': '+str(avg_score.avg_scores[3])+'\\n'+\n",
    "avg_score.index[4]+': '+str(avg_score.avg_scores[4])+'\\n____________\\n')\n",
    "\n",
    "avg_score"
   ]
  }
 ],
 "metadata": {
  "kernelspec": {
   "display_name": "venv",
   "language": "python",
   "name": "venv"
  },
  "language_info": {
   "codemirror_mode": {
    "name": "ipython",
    "version": 3
   },
   "file_extension": ".py",
   "mimetype": "text/x-python",
   "name": "python",
   "nbconvert_exporter": "python",
   "pygments_lexer": "ipython3",
   "version": "3.9.7"
  }
 },
 "nbformat": 4,
 "nbformat_minor": 5
}
