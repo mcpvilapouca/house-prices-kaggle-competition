{
 "cells": [
  {
   "cell_type": "markdown",
   "id": "d3f90654",
   "metadata": {},
   "source": [
    "This notebook does some preprocessing in the training and test data and save the preprocessed data to pickle files\n",
    "\n",
    "- The data is loaded from the .csv files and checked for NaN\n",
    "- Several techniques were tested to replace NaNs, including deleting columns with more than X Nans rows when Columns had less than X Nans.\n",
    "  Ultimately, the technique that workeed best was to replace NaNs with numeric values according to the feature itself. \n",
    "  So, the replacements were as follows: \n",
    "       - Zero if the feature was a room area\n",
    "       - Mode (most common) if the feature was something that every house has, such as utilities\n",
    "       - Replace with 'NA' or 'None' for categorical features. We assumed that NaN represented houses without some feature,\n",
    "       such as basement, garage, etc\n",
    "       - For the Zoning feature, we assumed a correlation with Neighborhood feature and replace NaNs in the test set with the most common\n",
    "       Zoning in the training set for the same Neighborhood\n",
    "      \n",
    "- To encode the categorical features I tested One-Hot Encoding for nominal variables and Ordinal Encoding for ordinal variables. This technique\n",
    "did not work well since the test set had ordinal categories that did not appear the the training set and it created too many features.\n",
    "  Ultimately, I decided to go with manual encoding for ordinal features, mapping according to the variables described in the data_description.txt.\n",
    "  And for categorical features with nominal variables, I applied the LabelEncoder.\n",
    "\n",
    "- This notebook has the option of removing outliers in the training data using LocalOutlierFactor. The n_neighbors parameter was set to 200 since it\n",
    "produced the best result. Removing outliers improved the result"
   ]
  },
  {
   "cell_type": "code",
   "execution_count": null,
   "id": "434fab77",
   "metadata": {},
   "outputs": [],
   "source": [
    "import pandas as pd\n",
    "import numpy as np\n",
    "from sklearn.model_selection import train_test_split\n",
    "from sklearn.preprocessing import LabelEncoder\n",
    "from sklearn.compose import make_column_transformer\n",
    "from sklearn.neighbors import LocalOutlierFactor\n",
    "from numpy import percentile\n",
    "\n",
    "pd.set_option('display.max_columns', None)\n",
    "\n",
    "save_file_train='train_data_2906_ro.pkl'\n",
    "save_file_test='test_data_2906_ro.pkl'\n",
    "\n",
    "#remove outliers 'yes' / 'no'\n",
    "\n",
    "ro='yes'"
   ]
  },
  {
   "cell_type": "code",
   "execution_count": 125,
   "id": "d5bfc3d7",
   "metadata": {},
   "outputs": [],
   "source": [
    "df=pd.read_csv('train.csv')\n",
    "df_test=pd.read_csv('test.csv')\n",
    "\n",
    "df=df.set_index('Id')\n"
   ]
  },
  {
   "cell_type": "code",
   "execution_count": 126,
   "id": "76394644",
   "metadata": {},
   "outputs": [],
   "source": [
    "#convert integers to float\n",
    "for col in list(df.loc[:,df.dtypes==int].columns):\n",
    "    df[col] = df[col].astype(float)\n",
    "    \n",
    "for col in list(df_test.loc[:,df_test.dtypes==int].columns):\n",
    "    df_test[col] = df_test[col].astype(float)   "
   ]
  },
  {
   "cell_type": "code",
   "execution_count": 127,
   "id": "f11e448b",
   "metadata": {},
   "outputs": [
    {
     "name": "stdout",
     "output_type": "stream",
     "text": [
      "['LotFrontage', 'Alley', 'MasVnrType', 'MasVnrArea', 'BsmtQual', 'BsmtCond', 'BsmtExposure', 'BsmtFinType1', 'BsmtFinType2', 'Electrical', 'FireplaceQu', 'GarageType', 'GarageYrBlt', 'GarageFinish', 'GarageQual', 'GarageCond', 'PoolQC', 'Fence', 'MiscFeature']\n"
     ]
    }
   ],
   "source": [
    "#get column names of columns with Nan\n",
    "nanfeat=df.columns[df.isna().any()].tolist()\n",
    "print(nanfeat)"
   ]
  },
  {
   "cell_type": "code",
   "execution_count": 128,
   "id": "0582f40b",
   "metadata": {},
   "outputs": [],
   "source": [
    "#decide what to do with Nans based on features\n",
    "\n",
    "#for 'GarageYrBlt', 'MasVnrArea', replace with 0\n",
    "df.GarageYrBlt.fillna(0, inplace=True)\n",
    "df.MasVnrArea.fillna(0, inplace=True)\n",
    "df.LotFrontage.fillna(0, inplace=True)\n",
    "\n",
    "#for categorical features, replace with 'NA' or None\n",
    "df.Alley.fillna('NA', inplace=True)\n",
    "df.MasVnrType.fillna('None', inplace=True)\n",
    "df.BsmtQual.fillna('NA', inplace=True)\n",
    "df.BsmtCond.fillna('NA', inplace=True)\n",
    "df.BsmtExposure.fillna('NA', inplace=True)\n",
    "df.BsmtFinType1.fillna('NA', inplace=True)\n",
    "df.BsmtFinType2.fillna('NA', inplace=True)\n",
    "df.FireplaceQu.fillna('NA', inplace=True)\n",
    "df.GarageType.fillna('NA', inplace=True)\n",
    "df.GarageFinish.fillna('NA', inplace=True)\n",
    "df.GarageQual.fillna('NA', inplace=True)\n",
    "df.GarageCond.fillna('NA', inplace=True)\n",
    "df.PoolQC.fillna('NA', inplace=True)\n",
    "df.Fence.fillna('NA', inplace=True)\n",
    "df.MiscFeature.fillna('NA', inplace=True)\n",
    "\n",
    "#for general characteristics replace with mode, the most common value\n",
    "df.Electrical.fillna(df.Electrical.mode()[0], inplace=True) "
   ]
  },
  {
   "cell_type": "code",
   "execution_count": 129,
   "id": "6c21ef6a",
   "metadata": {},
   "outputs": [
    {
     "name": "stdout",
     "output_type": "stream",
     "text": [
      "['MSZoning', 'LotFrontage', 'Alley', 'Utilities', 'Exterior1st', 'Exterior2nd', 'MasVnrType', 'MasVnrArea', 'BsmtQual', 'BsmtCond', 'BsmtExposure', 'BsmtFinType1', 'BsmtFinSF1', 'BsmtFinType2', 'BsmtFinSF2', 'BsmtUnfSF', 'TotalBsmtSF', 'BsmtFullBath', 'BsmtHalfBath', 'KitchenQual', 'Functional', 'FireplaceQu', 'GarageType', 'GarageYrBlt', 'GarageFinish', 'GarageCars', 'GarageArea', 'GarageQual', 'GarageCond', 'PoolQC', 'Fence', 'MiscFeature', 'SaleType']\n"
     ]
    }
   ],
   "source": [
    "#get column names of columns with Nan in test set\n",
    "test_nanfeat=df_test.columns[df_test.isna().any()].tolist()\n",
    "print(test_nanfeat)"
   ]
  },
  {
   "cell_type": "code",
   "execution_count": 130,
   "id": "5c813933",
   "metadata": {},
   "outputs": [],
   "source": [
    "#decide what to do with Nans based on features\n",
    "#for 'GarageYrBlt', 'MasVnrArea', replace with 0\n",
    "df_test.GarageYrBlt.fillna(0, inplace=True)\n",
    "df_test.MasVnrArea.fillna(0, inplace=True)\n",
    "df_test.LotFrontage.fillna(0, inplace=True)\n",
    "df_test.BsmtFinSF1.fillna(0, inplace=True)\n",
    "df_test.BsmtFinSF2.fillna(0, inplace=True)\n",
    "df_test.BsmtUnfSF.fillna(0, inplace=True)\n",
    "df_test.TotalBsmtSF.fillna(0, inplace=True)\n",
    "df_test.BsmtFullBath.fillna(0, inplace=True)\n",
    "df_test.GarageCars.fillna(0, inplace=True)\n",
    "df_test.GarageArea.fillna(0, inplace=True)\n",
    "df_test.BsmtHalfBath.fillna(0, inplace=True)\n",
    "\n",
    "#for categorical features, replace with 'NA' or None\n",
    "df_test.Alley.fillna('NA', inplace=True)\n",
    "df_test.MasVnrType.fillna('None', inplace=True)\n",
    "df_test.BsmtQual.fillna('NA', inplace=True)\n",
    "df_test.BsmtCond.fillna('NA', inplace=True)\n",
    "df_test.BsmtExposure.fillna('NA', inplace=True)\n",
    "df_test.BsmtFinType1.fillna('NA', inplace=True)\n",
    "df_test.BsmtFinType2.fillna('NA', inplace=True)\n",
    "df_test.FireplaceQu.fillna('NA', inplace=True)\n",
    "df_test.GarageType.fillna('NA', inplace=True)\n",
    "df_test.GarageFinish.fillna('NA', inplace=True)\n",
    "df_test.GarageQual.fillna('NA', inplace=True)\n",
    "df_test.GarageCond.fillna('NA', inplace=True)\n",
    "df_test.PoolQC.fillna('NA', inplace=True)\n",
    "df_test.Fence.fillna('NA', inplace=True)\n",
    "df_test.MiscFeature.fillna('NA', inplace=True)\n",
    "\n",
    "\n",
    "#for general characteristics replace with mode, the most common value\n",
    "df_test.Utilities.fillna(df_test.Utilities.mode()[0], inplace=True)\n",
    "df_test.Exterior1st.fillna(df_test.Exterior1st.mode()[0], inplace=True)\n",
    "df_test.Exterior2nd.fillna(df_test.Exterior2nd.mode()[0], inplace=True)\n",
    "df_test.KitchenQual.fillna(df_test.KitchenQual.mode()[0], inplace=True)\n",
    "df_test.Functional.fillna(df_test.Functional.mode()[0], inplace=True)\n",
    "df_test.SaleType.fillna(df_test.SaleType.mode()[0], inplace=True)\n",
    "\n",
    "#Zoning should correlate with Neighborhood so use the most common within the neighborhood of the tra\n",
    "map_zoning=dict(zip(list(df.groupby(['Neighborhood'])['MSZoning'].agg(pd.Series.mode).index),list(df.groupby(['Neighborhood'])['MSZoning'].agg(pd.Series.mode))))\n",
    "df_test.MSZoning=df_test.Neighborhood\n",
    "df_test.MSZoning = df_test.MSZoning.map(map_zoning)"
   ]
  },
  {
   "cell_type": "code",
   "execution_count": 131,
   "id": "3a9004cb",
   "metadata": {},
   "outputs": [
    {
     "name": "stdout",
     "output_type": "stream",
     "text": [
      "False\n",
      "False\n"
     ]
    }
   ],
   "source": [
    "#Check for Nan under the dataframes\n",
    "print(df.isnull().values.any())\n",
    "print(df_test.isnull().values.any())"
   ]
  },
  {
   "cell_type": "code",
   "execution_count": 133,
   "id": "83add77b",
   "metadata": {},
   "outputs": [],
   "source": [
    "#use manual encoding for rank features\n",
    "cat1=['Ex','Gd','TA','Fa','Po','NA']\n",
    "cat2=['GLQ','ALQ','BLQ','Rec','LwQ','Unf','NA']\n",
    "\n",
    "rank_cols1=[]\n",
    "rank_cols2=[]\n",
    "for col in df.loc[:,df.dtypes==object].columns:\n",
    "    if df[col].str.match( r'^Ex$|^TA$|^Fa$|^Po$').any()==True:\n",
    "        rank_cols1.append(col)\n",
    "    elif df[col].eq( r'^GLQ$|^ALQ$|^BLQ$|^Rec$|^LwQ$|^Unf$').any()==True:\n",
    "        rank_cols2.append(col)\n",
    "\n",
    "#create mapping\n",
    "map1=dict(zip(cat1,np.sort(np.arange(len(cat1)))[::-1]))\n",
    "map2=dict(zip(cat2,np.sort(np.arange(len(cat2)))[::-1]))\n",
    "\n",
    "#replace cols\n",
    "for col in rank_cols1:\n",
    "    df[col] = df[col].map(map1)\n",
    "    df_test[col] = df_test[col].map(map1)\n",
    "for col in rank_cols2:\n",
    "    df[col] = df[col].map(map2)\n",
    "    df_test[col] = df_test[col].map(map2)"
   ]
  },
  {
   "cell_type": "code",
   "execution_count": 134,
   "id": "73a92538",
   "metadata": {},
   "outputs": [],
   "source": [
    "cat3=['Gd','Av','Mn','No','NA']\n",
    "map3=dict(zip(cat3,np.sort(np.arange(len(cat3)))[::-1]))\n",
    "#replace cols\n",
    "df['BsmtExposure'] = df['BsmtExposure'].map(map3)\n",
    "df_test['BsmtExposure'] = df_test['BsmtExposure'].map(map3)\n",
    "\n",
    "cat4=['GdPrv','MnPrv','GdWo','MnWw','NA']\n",
    "rank_cols4=['Fence']\n",
    "map4=dict(zip(cat4,np.sort(np.arange(len(cat4)))[::-1]))\n",
    "\n",
    "for col in rank_cols4:\n",
    "    df[col] = df[col].map(map4)\n",
    "    df_test[col] = df_test[col].map(map4)"
   ]
  },
  {
   "cell_type": "code",
   "execution_count": 135,
   "id": "41889fc1",
   "metadata": {},
   "outputs": [],
   "source": [
    "#Use label encoder in non rank features\n",
    "labelencoder = LabelEncoder()\n",
    "\n",
    "cols_for_le=list(df.loc[:,df.dtypes==object].columns)\n",
    "\n",
    "for col in cols_for_le:\n",
    "    df[col]=labelencoder.fit_transform(df[col])\n",
    "\n",
    "    df_test[col] = df_test[col].map(lambda s: '<unknown>' if s not in labelencoder.classes_ else s)\n",
    "    labelencoder.classes_ = np.append(labelencoder.classes_, '<unknown>')\n",
    "\n",
    "    df_test[col]=labelencoder.transform(df_test[col])"
   ]
  },
  {
   "cell_type": "code",
   "execution_count": 136,
   "id": "ef173bed",
   "metadata": {},
   "outputs": [
    {
     "name": "stdout",
     "output_type": "stream",
     "text": [
      "False\n",
      "False\n"
     ]
    }
   ],
   "source": [
    "#Check for Nan under the dataframes\n",
    "print(df.isnull().values.any())\n",
    "print(df_test.isnull().values.any())"
   ]
  },
  {
   "cell_type": "code",
   "execution_count": 138,
   "id": "ea9f65b7",
   "metadata": {},
   "outputs": [],
   "source": [
    "if ro=='yes':\n",
    "    #Remove Outliers\n",
    "    target=df.SalePrice\n",
    "    df=df.drop('SalePrice', axis=1)\n",
    "    # identify outliers in the training dataset\n",
    "    lof = LocalOutlierFactor(n_neighbors=200)\n",
    "    yhat = lof.fit_predict(df)\n",
    "    # select all rows that are not outliers\n",
    "    mask = yhat != -1\n",
    "    df, target = df[mask], target[mask]"
   ]
  },
  {
   "cell_type": "code",
   "execution_count": 139,
   "id": "cc4e6725",
   "metadata": {},
   "outputs": [],
   "source": [
    "df=pd.concat([df,target],axis=1)\n",
    "df.to_pickle(save_file_train)\n",
    "df_test.to_pickle(save_file_test)"
   ]
  }
 ],
 "metadata": {
  "kernelspec": {
   "display_name": "venv",
   "language": "python",
   "name": "venv"
  },
  "language_info": {
   "codemirror_mode": {
    "name": "ipython",
    "version": 3
   },
   "file_extension": ".py",
   "mimetype": "text/x-python",
   "name": "python",
   "nbconvert_exporter": "python",
   "pygments_lexer": "ipython3",
   "version": "3.9.7"
  }
 },
 "nbformat": 4,
 "nbformat_minor": 5
}
